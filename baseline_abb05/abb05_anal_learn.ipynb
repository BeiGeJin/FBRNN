{
 "cells": [
  {
   "cell_type": "code",
   "execution_count": 71,
   "metadata": {},
   "outputs": [],
   "source": [
    "# Gain modulation RNN with oja learning on weight matrix\n",
    "import numpy as np\n",
    "import matplotlib.pyplot as plt\n",
    "import torch\n",
    "import torch.nn as nn\n",
    "import torch.optim as optim\n",
    "import pickle\n",
    "from abb05_rep import SimpleNeuralNetwork\n",
    "from tqdm import tqdm"
   ]
  },
  {
   "cell_type": "code",
   "execution_count": 72,
   "metadata": {},
   "outputs": [],
   "source": [
    "# load the pickle file\n",
    "with open('abb05_rep.pkl', 'rb') as f:\n",
    "    model_rep = pickle.load(f)"
   ]
  },
  {
   "cell_type": "code",
   "execution_count": 73,
   "metadata": {},
   "outputs": [],
   "source": [
    "# input and target\n",
    "ndata = 200\n",
    "xs = torch.linspace(0, 2 * torch.pi, ndata)\n",
    "ys = torch.cos(xs)/4 + 0.5"
   ]
  },
  {
   "cell_type": "code",
   "execution_count": 119,
   "metadata": {},
   "outputs": [
    {
     "name": "stderr",
     "output_type": "stream",
     "text": [
      "  1%|          | 2/300 [00:00<00:22, 13.49it/s]"
     ]
    },
    {
     "name": "stdout",
     "output_type": "stream",
     "text": [
      "Epoch: 0, Loss: 0.0007407195217008678\n"
     ]
    },
    {
     "name": "stderr",
     "output_type": "stream",
     "text": [
      "  8%|▊         | 23/300 [00:01<00:12, 22.76it/s]"
     ]
    },
    {
     "name": "stdout",
     "output_type": "stream",
     "text": [
      "Epoch: 20, Loss: 0.0007030882446568488\n"
     ]
    },
    {
     "name": "stderr",
     "output_type": "stream",
     "text": [
      " 15%|█▍        | 44/300 [00:01<00:11, 22.92it/s]"
     ]
    },
    {
     "name": "stdout",
     "output_type": "stream",
     "text": [
      "Epoch: 40, Loss: 0.0007144746740872065\n"
     ]
    },
    {
     "name": "stderr",
     "output_type": "stream",
     "text": [
      " 19%|█▊        | 56/300 [00:02<00:09, 24.93it/s]"
     ]
    },
    {
     "name": "stdout",
     "output_type": "stream",
     "text": [
      "boundary end!!!\n"
     ]
    },
    {
     "name": "stderr",
     "output_type": "stream",
     "text": [
      " 22%|██▏       | 65/300 [00:02<00:09, 24.91it/s]"
     ]
    },
    {
     "name": "stdout",
     "output_type": "stream",
     "text": [
      "Epoch: 60, Loss: 0.00870051797244777\n"
     ]
    },
    {
     "name": "stderr",
     "output_type": "stream",
     "text": [
      " 28%|██▊       | 83/300 [00:03<00:08, 24.79it/s]"
     ]
    },
    {
     "name": "stdout",
     "output_type": "stream",
     "text": [
      "Epoch: 80, Loss: 0.0039030357480297883\n"
     ]
    },
    {
     "name": "stderr",
     "output_type": "stream",
     "text": [
      " 35%|███▍      | 104/300 [00:04<00:08, 22.99it/s]"
     ]
    },
    {
     "name": "stdout",
     "output_type": "stream",
     "text": [
      "Epoch: 100, Loss: 0.0012902564616859102\n"
     ]
    },
    {
     "name": "stderr",
     "output_type": "stream",
     "text": [
      " 40%|███▉      | 119/300 [00:05<00:07, 22.75it/s]"
     ]
    },
    {
     "name": "stdout",
     "output_type": "stream",
     "text": [
      "boundary start!!!\n",
      "Epoch: 120, Loss: 0.000975284412056947\n"
     ]
    },
    {
     "name": "stderr",
     "output_type": "stream",
     "text": [
      " 48%|████▊     | 143/300 [00:06<00:06, 22.50it/s]"
     ]
    },
    {
     "name": "stdout",
     "output_type": "stream",
     "text": [
      "Epoch: 140, Loss: 0.0010235090661244329\n"
     ]
    },
    {
     "name": "stderr",
     "output_type": "stream",
     "text": [
      " 55%|█████▍    | 164/300 [00:07<00:06, 22.43it/s]"
     ]
    },
    {
     "name": "stdout",
     "output_type": "stream",
     "text": [
      "Epoch: 160, Loss: 0.00102103931005864\n"
     ]
    },
    {
     "name": "stderr",
     "output_type": "stream",
     "text": [
      " 62%|██████▏   | 185/300 [00:08<00:04, 23.21it/s]"
     ]
    },
    {
     "name": "stdout",
     "output_type": "stream",
     "text": [
      "Epoch: 180, Loss: 0.0010520565763808775\n"
     ]
    },
    {
     "name": "stderr",
     "output_type": "stream",
     "text": [
      " 68%|██████▊   | 203/300 [00:08<00:04, 23.06it/s]"
     ]
    },
    {
     "name": "stdout",
     "output_type": "stream",
     "text": [
      "Epoch: 200, Loss: 0.0010865435714026716\n"
     ]
    },
    {
     "name": "stderr",
     "output_type": "stream",
     "text": [
      " 75%|███████▍  | 224/300 [00:09<00:03, 23.53it/s]"
     ]
    },
    {
     "name": "stdout",
     "output_type": "stream",
     "text": [
      "Epoch: 220, Loss: 0.0010625048753116339\n"
     ]
    },
    {
     "name": "stderr",
     "output_type": "stream",
     "text": [
      " 82%|████████▏ | 245/300 [00:10<00:02, 23.82it/s]"
     ]
    },
    {
     "name": "stdout",
     "output_type": "stream",
     "text": [
      "Epoch: 240, Loss: 0.0010123444667615566\n"
     ]
    },
    {
     "name": "stderr",
     "output_type": "stream",
     "text": [
      " 88%|████████▊ | 263/300 [00:11<00:01, 24.04it/s]"
     ]
    },
    {
     "name": "stdout",
     "output_type": "stream",
     "text": [
      "Epoch: 260, Loss: 0.0010463455961235012\n"
     ]
    },
    {
     "name": "stderr",
     "output_type": "stream",
     "text": [
      " 95%|█████████▍| 284/300 [00:12<00:00, 23.59it/s]"
     ]
    },
    {
     "name": "stdout",
     "output_type": "stream",
     "text": [
      "Epoch: 280, Loss: 0.0010609783689862695\n"
     ]
    },
    {
     "name": "stderr",
     "output_type": "stream",
     "text": [
      "100%|██████████| 300/300 [00:12<00:00, 23.29it/s]\n"
     ]
    }
   ],
   "source": [
    "# manual simulation\n",
    "simu_epochs = 300\n",
    "input_size = 230\n",
    "theo_gain = 3 * np.ones((input_size, 1))\n",
    "theo_shift = 1 * np.ones((input_size, 1))\n",
    "init_gain = model_rep.gain.detach().numpy()\n",
    "init_shift = model_rep.shift.detach().numpy()\n",
    "init_weight = model_rep.weights.detach().numpy()\n",
    "gc_thresh = np.sqrt(input_size) * 0.01\n",
    "sc_thresh = np.sqrt(input_size) * 0.01\n",
    "narrow_factor = 0.0001\n",
    "hebbian_lr = 0.001\n",
    "oja_alpha = 12\n",
    "\n",
    "# create boundaries\n",
    "has_boundary = True\n",
    "gain_ub = np.maximum(init_gain, theo_gain)\n",
    "gain_lb = np.minimum(init_gain, theo_gain)\n",
    "shift_ub = np.maximum(init_shift, theo_shift)\n",
    "shift_lb = np.minimum(init_shift, theo_shift)\n",
    "\n",
    "# define noise\n",
    "np.random.seed(42)\n",
    "W = np.eye(input_size) * 0.001\n",
    "x_noises = (np.random.multivariate_normal(mean=np.zeros(input_size), cov=W, size=simu_epochs)).T * 0\n",
    "x_noises = torch.tensor(x_noises, dtype=torch.float32)\n",
    "x_noises[:,50::] += 0.1\n",
    "simu_losses = []\n",
    "gain_changes = []\n",
    "shift_changes = []\n",
    "weight_sums = []\n",
    "epoch_loss = 0\n",
    "\n",
    "for epoch in tqdm(range(simu_epochs), position=0, leave=True):\n",
    "\n",
    "    # shuffle data\n",
    "    perm_idx = torch.randperm(ndata)\n",
    "    shuffled_xs = xs[perm_idx]\n",
    "    shuffled_ys = ys[perm_idx]\n",
    "    last_epoch_loss = epoch_loss\n",
    "    epoch_loss = 0\n",
    "\n",
    "    for x, y in zip(shuffled_xs, shuffled_ys):\n",
    "        \n",
    "        # establish model\n",
    "        model = SimpleNeuralNetwork(input_size, init_gain, init_shift, init_weight)\n",
    "\n",
    "        # forward\n",
    "        inpu_ipl = model.gaussian_rf(x)\n",
    "        actv_ipl = model.activation_func(model.gain * (inpu_ipl - model.shift)) + (x_noises[:, epoch]).reshape(-1, 1)\n",
    "        # actv_ipl = model.activation_func(model.gain * (inpu_ipl - model.shift))\n",
    "        model.input_activation = actv_ipl.clone()\n",
    "        inpu_opl = torch.matmul(model.weights, actv_ipl)\n",
    "        actv_opl = model.activation_func(3 * (inpu_opl - 1))\n",
    "        model.output_activation = actv_opl.clone()\n",
    "\n",
    "        # backprop\n",
    "        optimizer = optim.SGD([model.gain, model.shift], lr=0.2)\n",
    "        loss_func = nn.MSELoss()\n",
    "        output = actv_opl.squeeze()\n",
    "        loss = 0.5 * loss_func(output, y)\n",
    "        loss.backward()\n",
    "        optimizer.step()\n",
    "        epoch_loss += loss.item()\n",
    "\n",
    "        # update init gains and shifts\n",
    "        init_gain = model.gain.detach().numpy()\n",
    "        init_shift = model.shift.detach().numpy()\n",
    "        gain_change = np.linalg.norm(init_gain - theo_gain, 2)\n",
    "        shift_change = np.linalg.norm(init_shift - theo_shift, 2)\n",
    "\n",
    "        # update weights\n",
    "        if loss < 0.001:\n",
    "            # Calculate Hebbian weight updates\n",
    "            hebbian_update = model.output_activation * (model.input_activation).T\n",
    "            # Regulation term of Oja\n",
    "            rj_square = (model.output_activation**2).expand(-1, model.input_size)\n",
    "            oja_regulation = oja_alpha * rj_square * model.weights\n",
    "            # Oja's rule\n",
    "            model.weights = model.weights + hebbian_lr * hebbian_update - hebbian_lr * oja_regulation            \n",
    "            # update init weights\n",
    "        init_weight = model.weights.detach().numpy()\n",
    "\n",
    "        if last_epoch_loss > 0.01 and has_boundary == True:\n",
    "            has_boundary = False\n",
    "            print(\"boundary end!!!\")\n",
    "\n",
    "        # shrink shift and gain to init value\n",
    "        if last_epoch_loss < 0.001 and has_boundary == False:\n",
    "            # create boundaries\n",
    "            gain_ub = np.maximum(init_gain, theo_gain)\n",
    "            gain_lb = np.minimum(init_gain, theo_gain)\n",
    "            shift_ub = np.maximum(init_shift, theo_shift)\n",
    "            shift_lb = np.minimum(init_shift, theo_shift)\n",
    "            has_boundary = True\n",
    "            print(\"boundary start!!!\")\n",
    "        if has_boundary and last_epoch_loss < 0.001:\n",
    "            # passively narrow the boundaries\n",
    "            gain_ub = np.maximum(np.minimum(init_gain, gain_ub), theo_gain)\n",
    "            gain_lb = np.minimum(np.maximum(init_gain, gain_lb), theo_gain)\n",
    "            shift_ub = np.maximum(np.minimum(init_shift, shift_ub), theo_shift)\n",
    "            shift_lb = np.minimum(np.maximum(init_shift, shift_lb), theo_shift)\n",
    "            # # actively narrow the boundaries\n",
    "            # if np.linalg.norm(gain_ub - theo_gain, 2) > gc_thresh:\n",
    "            #     gain_ub -= narrow_factor * (gain_ub - theo_gain)\n",
    "            # if np.linalg.norm(gain_lb - theo_gain, 2) > gc_thresh:\n",
    "            #     gain_lb -= narrow_factor * (gain_lb - theo_gain)\n",
    "            # if np.linalg.norm(shift_ub - theo_shift, 2) > sc_thresh:\n",
    "            #     shift_ub -= narrow_factor * (shift_ub - theo_shift)\n",
    "            # if np.linalg.norm(shift_lb - theo_shift, 2) > sc_thresh:\n",
    "            #     shift_lb -= narrow_factor * (shift_lb - theo_shift)\n",
    "        # pull gains and shifts back to into boundaries\n",
    "        if has_boundary:\n",
    "            init_gain = np.minimum(init_gain, gain_ub)\n",
    "            init_gain = np.maximum(init_gain, gain_lb)\n",
    "            init_shift = np.minimum(init_shift, shift_ub)\n",
    "            init_shift = np.maximum(init_shift, shift_lb)\n",
    "\n",
    "    # print losses\n",
    "    epoch_loss /= ndata\n",
    "    simu_losses.append(epoch_loss)\n",
    "    gain_changes.append(gain_change)\n",
    "    shift_changes.append(shift_change)\n",
    "    weight_sums.append(np.sum(init_weight))\n",
    "\n",
    "    if epoch % 20 == 0:\n",
    "        print(f\"Epoch: {epoch}, Loss: {epoch_loss}\")"
   ]
  },
  {
   "cell_type": "code",
   "execution_count": 157,
   "metadata": {},
   "outputs": [
    {
     "name": "stderr",
     "output_type": "stream",
     "text": [
      "  1%|          | 3/500 [00:00<00:20, 24.30it/s]"
     ]
    },
    {
     "name": "stdout",
     "output_type": "stream",
     "text": [
      "hebbian start!!!\n",
      "Epoch: 0, Loss: 0.0026026209302552417\n",
      "forced backprop!!!\n",
      "boundary end!!!\n"
     ]
    },
    {
     "name": "stderr",
     "output_type": "stream",
     "text": [
      "  5%|▍         | 24/500 [00:00<00:18, 26.13it/s]"
     ]
    },
    {
     "name": "stdout",
     "output_type": "stream",
     "text": [
      "Epoch: 20, Loss: 0.0009184574358660313\n",
      "boundary start!!!\n",
      "hebbian start!!!\n",
      "converge!! start backprop!!!\n",
      "hebbian start!!!\n",
      "converge!! start backprop!!!\n"
     ]
    },
    {
     "name": "stderr",
     "output_type": "stream",
     "text": [
      "  6%|▌         | 30/500 [00:01<00:18, 26.04it/s]"
     ]
    },
    {
     "name": "stdout",
     "output_type": "stream",
     "text": [
      "hebbian start!!!\n",
      "converge!! start backprop!!!\n"
     ]
    },
    {
     "name": "stderr",
     "output_type": "stream",
     "text": [
      "  9%|▊         | 43/500 [00:01<00:16, 27.12it/s]"
     ]
    },
    {
     "name": "stdout",
     "output_type": "stream",
     "text": [
      "hebbian start!!!\n",
      "converge!! start backprop!!!\n",
      "Epoch: 40, Loss: 0.0007924338932301111\n",
      "hebbian start!!!\n",
      "converge!! start backprop!!!\n",
      "hebbian start!!!\n",
      "converge!! start backprop!!!\n"
     ]
    },
    {
     "name": "stderr",
     "output_type": "stream",
     "text": [
      " 10%|▉         | 49/500 [00:01<00:16, 27.20it/s]"
     ]
    },
    {
     "name": "stdout",
     "output_type": "stream",
     "text": [
      "hebbian start!!!\n",
      "converge!! start backprop!!!\n",
      "hebbian start!!!\n",
      "converge!! start backprop!!!\n",
      "hebbian start!!!\n",
      "converge!! start backprop!!!\n"
     ]
    },
    {
     "name": "stderr",
     "output_type": "stream",
     "text": [
      " 11%|█         | 55/500 [00:02<00:16, 26.61it/s]"
     ]
    },
    {
     "name": "stdout",
     "output_type": "stream",
     "text": [
      "boundary end!!!\n"
     ]
    },
    {
     "name": "stderr",
     "output_type": "stream",
     "text": [
      " 13%|█▎        | 64/500 [00:02<00:16, 26.10it/s]"
     ]
    },
    {
     "name": "stdout",
     "output_type": "stream",
     "text": [
      "Epoch: 60, Loss: 0.00444985955420897\n"
     ]
    },
    {
     "name": "stderr",
     "output_type": "stream",
     "text": [
      " 17%|█▋        | 85/500 [00:03<00:15, 26.33it/s]"
     ]
    },
    {
     "name": "stdout",
     "output_type": "stream",
     "text": [
      "Epoch: 80, Loss: 0.0018102809840310386\n"
     ]
    },
    {
     "name": "stderr",
     "output_type": "stream",
     "text": [
      " 21%|██        | 106/500 [00:04<00:14, 26.81it/s]"
     ]
    },
    {
     "name": "stdout",
     "output_type": "stream",
     "text": [
      "Epoch: 100, Loss: 0.001142016456135746\n"
     ]
    },
    {
     "name": "stderr",
     "output_type": "stream",
     "text": [
      " 22%|██▏       | 112/500 [00:04<00:14, 27.08it/s]"
     ]
    },
    {
     "name": "stdout",
     "output_type": "stream",
     "text": [
      "boundary start!!!\n",
      "hebbian start!!!\n",
      "converge!! start backprop!!!\n"
     ]
    },
    {
     "name": "stderr",
     "output_type": "stream",
     "text": [
      " 25%|██▍       | 124/500 [00:04<00:14, 26.66it/s]"
     ]
    },
    {
     "name": "stdout",
     "output_type": "stream",
     "text": [
      "Epoch: 120, Loss: 0.0020156359225594043\n"
     ]
    },
    {
     "name": "stderr",
     "output_type": "stream",
     "text": [
      " 29%|██▉       | 145/500 [00:05<00:13, 26.21it/s]"
     ]
    },
    {
     "name": "stdout",
     "output_type": "stream",
     "text": [
      "Epoch: 140, Loss: 0.0020156410938710055\n"
     ]
    },
    {
     "name": "stderr",
     "output_type": "stream",
     "text": [
      " 33%|███▎      | 166/500 [00:06<00:12, 25.84it/s]"
     ]
    },
    {
     "name": "stdout",
     "output_type": "stream",
     "text": [
      "Epoch: 160, Loss: 0.002015579891215262\n"
     ]
    },
    {
     "name": "stderr",
     "output_type": "stream",
     "text": [
      " 37%|███▋      | 184/500 [00:07<00:12, 25.81it/s]"
     ]
    },
    {
     "name": "stdout",
     "output_type": "stream",
     "text": [
      "Epoch: 180, Loss: 0.002015622760744158\n"
     ]
    },
    {
     "name": "stderr",
     "output_type": "stream",
     "text": [
      " 41%|████      | 205/500 [00:07<00:11, 26.28it/s]"
     ]
    },
    {
     "name": "stdout",
     "output_type": "stream",
     "text": [
      "Epoch: 200, Loss: 0.0020155542232591374\n"
     ]
    },
    {
     "name": "stderr",
     "output_type": "stream",
     "text": [
      " 45%|████▌     | 226/500 [00:08<00:10, 26.40it/s]"
     ]
    },
    {
     "name": "stdout",
     "output_type": "stream",
     "text": [
      "Epoch: 220, Loss: 0.0020156209406413782\n"
     ]
    },
    {
     "name": "stderr",
     "output_type": "stream",
     "text": [
      " 49%|████▉     | 244/500 [00:09<00:09, 26.05it/s]"
     ]
    },
    {
     "name": "stdout",
     "output_type": "stream",
     "text": [
      "Epoch: 240, Loss: 0.0020156211933894585\n"
     ]
    },
    {
     "name": "stderr",
     "output_type": "stream",
     "text": [
      " 53%|█████▎    | 265/500 [00:10<00:08, 26.17it/s]"
     ]
    },
    {
     "name": "stdout",
     "output_type": "stream",
     "text": [
      "Epoch: 260, Loss: 0.002015618357376816\n"
     ]
    },
    {
     "name": "stderr",
     "output_type": "stream",
     "text": [
      " 57%|█████▋    | 286/500 [00:10<00:08, 26.32it/s]"
     ]
    },
    {
     "name": "stdout",
     "output_type": "stream",
     "text": [
      "Epoch: 280, Loss: 0.002015610112886925\n"
     ]
    },
    {
     "name": "stderr",
     "output_type": "stream",
     "text": [
      " 61%|██████    | 304/500 [00:11<00:07, 25.58it/s]"
     ]
    },
    {
     "name": "stdout",
     "output_type": "stream",
     "text": [
      "Epoch: 300, Loss: 0.002015700203946986\n"
     ]
    },
    {
     "name": "stderr",
     "output_type": "stream",
     "text": [
      " 65%|██████▌   | 325/500 [00:12<00:06, 25.68it/s]"
     ]
    },
    {
     "name": "stdout",
     "output_type": "stream",
     "text": [
      "Epoch: 320, Loss: 0.0020156449382270213\n"
     ]
    },
    {
     "name": "stderr",
     "output_type": "stream",
     "text": [
      " 69%|██████▉   | 346/500 [00:13<00:05, 26.22it/s]"
     ]
    },
    {
     "name": "stdout",
     "output_type": "stream",
     "text": [
      "Epoch: 340, Loss: 0.002015621165853929\n"
     ]
    },
    {
     "name": "stderr",
     "output_type": "stream",
     "text": [
      " 73%|███████▎  | 364/500 [00:14<00:05, 26.14it/s]"
     ]
    },
    {
     "name": "stdout",
     "output_type": "stream",
     "text": [
      "Epoch: 360, Loss: 0.0020156221172629783\n"
     ]
    },
    {
     "name": "stderr",
     "output_type": "stream",
     "text": [
      " 77%|███████▋  | 385/500 [00:14<00:04, 26.02it/s]"
     ]
    },
    {
     "name": "stdout",
     "output_type": "stream",
     "text": [
      "Epoch: 380, Loss: 0.002015599082876074\n"
     ]
    },
    {
     "name": "stderr",
     "output_type": "stream",
     "text": [
      " 81%|████████  | 406/500 [00:15<00:03, 25.54it/s]"
     ]
    },
    {
     "name": "stdout",
     "output_type": "stream",
     "text": [
      "Epoch: 400, Loss: 0.0020156135340542746\n"
     ]
    },
    {
     "name": "stderr",
     "output_type": "stream",
     "text": [
      " 85%|████████▍ | 424/500 [00:16<00:02, 26.06it/s]"
     ]
    },
    {
     "name": "stdout",
     "output_type": "stream",
     "text": [
      "Epoch: 420, Loss: 0.002015629009171258\n"
     ]
    },
    {
     "name": "stderr",
     "output_type": "stream",
     "text": [
      " 89%|████████▉ | 445/500 [00:17<00:02, 26.32it/s]"
     ]
    },
    {
     "name": "stdout",
     "output_type": "stream",
     "text": [
      "Epoch: 440, Loss: 0.002015613162450798\n"
     ]
    },
    {
     "name": "stderr",
     "output_type": "stream",
     "text": [
      " 93%|█████████▎| 466/500 [00:17<00:01, 26.26it/s]"
     ]
    },
    {
     "name": "stdout",
     "output_type": "stream",
     "text": [
      "Epoch: 460, Loss: 0.002015580946137101\n"
     ]
    },
    {
     "name": "stderr",
     "output_type": "stream",
     "text": [
      " 97%|█████████▋| 484/500 [00:18<00:00, 26.30it/s]"
     ]
    },
    {
     "name": "stdout",
     "output_type": "stream",
     "text": [
      "Epoch: 480, Loss: 0.0020156069316218696\n"
     ]
    },
    {
     "name": "stderr",
     "output_type": "stream",
     "text": [
      "100%|██████████| 500/500 [00:19<00:00, 25.98it/s]\n"
     ]
    }
   ],
   "source": [
    "# manual simulation 2\n",
    "simu_epochs = 500\n",
    "input_size = 230\n",
    "theo_gain = 3 * np.ones((input_size, 1))\n",
    "theo_shift = 1 * np.ones((input_size, 1))\n",
    "init_gain = model_rep.gain.detach().numpy()\n",
    "init_shift = model_rep.shift.detach().numpy()\n",
    "init_weight = model_rep.weights.detach().numpy()\n",
    "gc_thresh = np.sqrt(input_size) * 0.01\n",
    "sc_thresh = np.sqrt(input_size) * 0.01\n",
    "narrow_factor = 0.001\n",
    "hebbian_lr = 0.001\n",
    "oja_alpha = 12\n",
    "\n",
    "# create boundaries\n",
    "has_boundary = True\n",
    "gain_ub = np.maximum(init_gain, theo_gain)\n",
    "gain_lb = np.minimum(init_gain, theo_gain)\n",
    "shift_ub = np.maximum(init_shift, theo_shift)\n",
    "shift_lb = np.minimum(init_shift, theo_shift)\n",
    "\n",
    "# define noise\n",
    "np.random.seed(42)\n",
    "W = np.eye(input_size) * 0.001\n",
    "x_noises = (np.random.multivariate_normal(mean=np.zeros(input_size), cov=W, size=simu_epochs)).T * 0\n",
    "x_noises = torch.tensor(x_noises, dtype=torch.float32)\n",
    "x_noises[:,50::] += 0.1\n",
    "simu_losses = []\n",
    "gain_changes = []\n",
    "shift_changes = []\n",
    "weight_sums = []\n",
    "epoch_loss = 0\n",
    "stage = 'backprop'\n",
    "\n",
    "for epoch in tqdm(range(simu_epochs), position=0, leave=True):\n",
    "\n",
    "    # shuffle data\n",
    "    perm_idx = torch.randperm(ndata)\n",
    "    shuffled_xs = xs[perm_idx]\n",
    "    shuffled_ys = ys[perm_idx]\n",
    "    last_epoch_loss = epoch_loss\n",
    "    epoch_loss = 0\n",
    "\n",
    "    # forced backprop when loss too large\n",
    "    if last_epoch_loss > 0.01 and stage != 'backprop':\n",
    "        stage = 'backprop'\n",
    "        print(\"forced backprop!!!\")\n",
    "    # forced abandon boundary when loss too large\n",
    "    if last_epoch_loss > 0.01 and has_boundary == True:\n",
    "        has_boundary = False\n",
    "        print(\"boundary end!!!\")\n",
    "    # start boundary when loss is small\n",
    "    if last_epoch_loss < 0.001 and has_boundary == False:\n",
    "        gain_ub = np.maximum(init_gain, theo_gain)\n",
    "        gain_lb = np.minimum(init_gain, theo_gain)\n",
    "        shift_ub = np.maximum(init_shift, theo_shift)\n",
    "        shift_lb = np.minimum(init_shift, theo_shift)\n",
    "        has_boundary = True\n",
    "        print(\"boundary start!!!\")\n",
    "    # start hebbian when loss is small\n",
    "    if last_epoch_loss < 0.001 and stage == 'backprop':\n",
    "        stage = 'hebbian'\n",
    "        print(\"hebbian start!!!\")\n",
    "    # narrow boundary and start backprop when hebbian convergence\n",
    "    elif len(simu_losses) >= 5 and np.std(simu_losses[-5:]) < 0.001 and stage == 'hebbian':\n",
    "        # passively narrow the boundaries\n",
    "        gain_ub = np.maximum(np.minimum(init_gain, gain_ub), theo_gain)\n",
    "        gain_lb = np.minimum(np.maximum(init_gain, gain_lb), theo_gain)\n",
    "        shift_ub = np.maximum(np.minimum(init_shift, shift_ub), theo_shift)\n",
    "        shift_lb = np.minimum(np.maximum(init_shift, shift_lb), theo_shift)\n",
    "        # actively narrow the boundaries\n",
    "        if np.linalg.norm(gain_ub - theo_gain, 2) > gc_thresh:\n",
    "            gain_ub -= narrow_factor * (gain_ub - theo_gain)\n",
    "        if np.linalg.norm(gain_lb - theo_gain, 2) > gc_thresh:\n",
    "            gain_lb -= narrow_factor * (gain_lb - theo_gain)\n",
    "        if np.linalg.norm(shift_ub - theo_shift, 2) > sc_thresh:\n",
    "            shift_ub -= narrow_factor * (shift_ub - theo_shift)\n",
    "        if np.linalg.norm(shift_lb - theo_shift, 2) > sc_thresh:\n",
    "            shift_lb -= narrow_factor * (shift_lb - theo_shift)\n",
    "        # pull back into boundary\n",
    "        init_gain = np.minimum(init_gain, gain_ub)\n",
    "        init_gain = np.maximum(init_gain, gain_lb)\n",
    "        init_shift = np.minimum(init_shift, shift_ub)\n",
    "        init_shift = np.maximum(init_shift, shift_lb)\n",
    "        stage = 'backprop'\n",
    "        print(\"converge!! start backprop!!!\")\n",
    "\n",
    "    for x, y in zip(shuffled_xs, shuffled_ys):\n",
    "        \n",
    "        # establish model\n",
    "        model = SimpleNeuralNetwork(input_size, init_gain, init_shift, init_weight)\n",
    "\n",
    "        # forward\n",
    "        inpu_ipl = model.gaussian_rf(x)\n",
    "        actv_ipl = model.activation_func(model.gain * (inpu_ipl - model.shift)) + (x_noises[:, epoch]).reshape(-1, 1)\n",
    "        # actv_ipl = model.activation_func(model.gain * (inpu_ipl - model.shift))\n",
    "        model.input_activation = actv_ipl.clone()\n",
    "        inpu_opl = torch.matmul(model.weights, actv_ipl)\n",
    "        actv_opl = model.activation_func(3 * (inpu_opl - 1))\n",
    "        model.output_activation = actv_opl.clone()\n",
    "\n",
    "        # loss\n",
    "        output = actv_opl.squeeze()\n",
    "        loss = 0.5 * loss_func(output, y)\n",
    "        epoch_loss += loss.item()\n",
    "\n",
    "        # backprop\n",
    "        if stage == 'backprop':\n",
    "            optimizer = optim.SGD([model.gain, model.shift], lr=0.2)\n",
    "            loss_func = nn.MSELoss()\n",
    "            loss.backward()\n",
    "            optimizer.step()\n",
    "\n",
    "        # update init gains and shifts\n",
    "        init_gain = model.gain.detach().numpy()\n",
    "        init_shift = model.shift.detach().numpy()\n",
    "        gain_change = np.linalg.norm(init_gain - theo_gain, 2)\n",
    "        shift_change = np.linalg.norm(init_shift - theo_shift, 2)\n",
    "        \n",
    "        # pull into boundary\n",
    "        if has_boundary:\n",
    "            init_gain = np.minimum(init_gain, gain_ub)\n",
    "            init_gain = np.maximum(init_gain, gain_lb)\n",
    "            init_shift = np.minimum(init_shift, shift_ub)\n",
    "            init_shift = np.maximum(init_shift, shift_lb)\n",
    "\n",
    "        # update weights\n",
    "        if stage == 'hebbian':\n",
    "            # Calculate Hebbian weight updates\n",
    "            hebbian_update = model.output_activation * (model.input_activation).T\n",
    "            # Regulation term of Oja\n",
    "            rj_square = (model.output_activation**2).expand(-1, model.input_size)\n",
    "            oja_regulation = oja_alpha * rj_square * model.weights\n",
    "            # Oja's rule\n",
    "            model.weights = model.weights + hebbian_lr * hebbian_update - hebbian_lr * oja_regulation            \n",
    "            # update init weights\n",
    "        init_weight = model.weights.detach().numpy()\n",
    "        \n",
    "    # print losses\n",
    "    epoch_loss /= ndata\n",
    "    simu_losses.append(epoch_loss)\n",
    "    gain_changes.append(gain_change)\n",
    "    shift_changes.append(shift_change)\n",
    "    weight_sums.append(np.sum(init_weight))\n",
    "\n",
    "    if epoch % 20 == 0:\n",
    "        print(f\"Epoch: {epoch}, Loss: {epoch_loss}\")"
   ]
  },
  {
   "cell_type": "code",
   "execution_count": 303,
   "metadata": {},
   "outputs": [
    {
     "name": "stderr",
     "output_type": "stream",
     "text": [
      "  0%|          | 2/3000 [00:00<03:49, 13.07it/s]"
     ]
    },
    {
     "name": "stdout",
     "output_type": "stream",
     "text": [
      "Epoch: 0, Loss: 0.014320228484268682\n"
     ]
    },
    {
     "name": "stderr",
     "output_type": "stream",
     "text": [
      "  1%|          | 25/3000 [00:01<01:57, 25.25it/s]"
     ]
    },
    {
     "name": "stdout",
     "output_type": "stream",
     "text": [
      "Epoch: 20, Loss: 0.0013786624027169125\n",
      "learning start!!!\n"
     ]
    },
    {
     "name": "stderr",
     "output_type": "stream",
     "text": [
      "  2%|▏         | 47/3000 [00:01<01:39, 29.69it/s]"
     ]
    },
    {
     "name": "stdout",
     "output_type": "stream",
     "text": [
      "Epoch: 40, Loss: 0.0006677730237439405\n"
     ]
    },
    {
     "name": "stderr",
     "output_type": "stream",
     "text": [
      "  2%|▏         | 65/3000 [00:02<01:36, 30.38it/s]"
     ]
    },
    {
     "name": "stdout",
     "output_type": "stream",
     "text": [
      "Epoch: 60, Loss: 0.004410536614304874\n"
     ]
    },
    {
     "name": "stderr",
     "output_type": "stream",
     "text": [
      "  3%|▎         | 85/3000 [00:03<01:33, 31.03it/s]"
     ]
    },
    {
     "name": "stdout",
     "output_type": "stream",
     "text": [
      "Epoch: 80, Loss: 0.008796672147998374\n"
     ]
    },
    {
     "name": "stderr",
     "output_type": "stream",
     "text": [
      "  4%|▎         | 105/3000 [00:03<01:33, 30.97it/s]"
     ]
    },
    {
     "name": "stdout",
     "output_type": "stream",
     "text": [
      "Epoch: 100, Loss: 0.01029539419481381\n"
     ]
    },
    {
     "name": "stderr",
     "output_type": "stream",
     "text": [
      "  4%|▍         | 125/3000 [00:04<01:32, 31.20it/s]"
     ]
    },
    {
     "name": "stdout",
     "output_type": "stream",
     "text": [
      "Epoch: 120, Loss: 0.010657280458059262\n"
     ]
    },
    {
     "name": "stderr",
     "output_type": "stream",
     "text": [
      "  5%|▍         | 145/3000 [00:05<01:31, 31.22it/s]"
     ]
    },
    {
     "name": "stdout",
     "output_type": "stream",
     "text": [
      "Epoch: 140, Loss: 0.010722856699983234\n"
     ]
    },
    {
     "name": "stderr",
     "output_type": "stream",
     "text": [
      "  6%|▌         | 165/3000 [00:05<01:31, 31.08it/s]"
     ]
    },
    {
     "name": "stdout",
     "output_type": "stream",
     "text": [
      "Epoch: 160, Loss: 0.01069321543849057\n"
     ]
    },
    {
     "name": "stderr",
     "output_type": "stream",
     "text": [
      "  6%|▌         | 185/3000 [00:06<01:29, 31.31it/s]"
     ]
    },
    {
     "name": "stdout",
     "output_type": "stream",
     "text": [
      "Epoch: 180, Loss: 0.010663904948791015\n"
     ]
    },
    {
     "name": "stderr",
     "output_type": "stream",
     "text": [
      "  7%|▋         | 205/3000 [00:06<01:29, 31.28it/s]"
     ]
    },
    {
     "name": "stdout",
     "output_type": "stream",
     "text": [
      "Epoch: 200, Loss: 0.010627356471728149\n"
     ]
    },
    {
     "name": "stderr",
     "output_type": "stream",
     "text": [
      "  8%|▊         | 225/3000 [00:07<01:29, 31.05it/s]"
     ]
    },
    {
     "name": "stdout",
     "output_type": "stream",
     "text": [
      "Epoch: 220, Loss: 0.010612807654867211\n"
     ]
    },
    {
     "name": "stderr",
     "output_type": "stream",
     "text": [
      "  8%|▊         | 245/3000 [00:08<01:28, 31.10it/s]"
     ]
    },
    {
     "name": "stdout",
     "output_type": "stream",
     "text": [
      "Epoch: 240, Loss: 0.010572277953305476\n"
     ]
    },
    {
     "name": "stderr",
     "output_type": "stream",
     "text": [
      "  9%|▉         | 265/3000 [00:08<01:27, 31.32it/s]"
     ]
    },
    {
     "name": "stdout",
     "output_type": "stream",
     "text": [
      "Epoch: 260, Loss: 0.01054107683420483\n"
     ]
    },
    {
     "name": "stderr",
     "output_type": "stream",
     "text": [
      " 10%|▉         | 285/3000 [00:09<01:26, 31.28it/s]"
     ]
    },
    {
     "name": "stdout",
     "output_type": "stream",
     "text": [
      "Epoch: 280, Loss: 0.01048378910592433\n"
     ]
    },
    {
     "name": "stderr",
     "output_type": "stream",
     "text": [
      " 10%|█         | 305/3000 [00:10<01:27, 30.93it/s]"
     ]
    },
    {
     "name": "stdout",
     "output_type": "stream",
     "text": [
      "Epoch: 300, Loss: 0.01043965951787918\n"
     ]
    },
    {
     "name": "stderr",
     "output_type": "stream",
     "text": [
      " 11%|█         | 325/3000 [00:10<01:26, 31.02it/s]"
     ]
    },
    {
     "name": "stdout",
     "output_type": "stream",
     "text": [
      "Epoch: 320, Loss: 0.01038777044983476\n"
     ]
    },
    {
     "name": "stderr",
     "output_type": "stream",
     "text": [
      " 12%|█▏        | 345/3000 [00:11<01:25, 31.20it/s]"
     ]
    },
    {
     "name": "stdout",
     "output_type": "stream",
     "text": [
      "Epoch: 340, Loss: 0.010337035638132762\n"
     ]
    },
    {
     "name": "stderr",
     "output_type": "stream",
     "text": [
      " 12%|█▏        | 365/3000 [00:12<01:24, 31.34it/s]"
     ]
    },
    {
     "name": "stdout",
     "output_type": "stream",
     "text": [
      "Epoch: 360, Loss: 0.010277282273486463\n"
     ]
    },
    {
     "name": "stderr",
     "output_type": "stream",
     "text": [
      " 13%|█▎        | 385/3000 [00:12<01:24, 31.10it/s]"
     ]
    },
    {
     "name": "stdout",
     "output_type": "stream",
     "text": [
      "Epoch: 380, Loss: 0.010219489749534887\n"
     ]
    },
    {
     "name": "stderr",
     "output_type": "stream",
     "text": [
      " 14%|█▎        | 405/3000 [00:13<01:23, 31.25it/s]"
     ]
    },
    {
     "name": "stdout",
     "output_type": "stream",
     "text": [
      "Epoch: 400, Loss: 0.01014081755728597\n"
     ]
    },
    {
     "name": "stderr",
     "output_type": "stream",
     "text": [
      " 14%|█▍        | 425/3000 [00:14<01:22, 31.34it/s]"
     ]
    },
    {
     "name": "stdout",
     "output_type": "stream",
     "text": [
      "Epoch: 420, Loss: 0.010084374934618268\n"
     ]
    },
    {
     "name": "stderr",
     "output_type": "stream",
     "text": [
      " 15%|█▍        | 445/3000 [00:14<01:21, 31.29it/s]"
     ]
    },
    {
     "name": "stdout",
     "output_type": "stream",
     "text": [
      "Epoch: 440, Loss: 0.009994631578074405\n"
     ]
    },
    {
     "name": "stderr",
     "output_type": "stream",
     "text": [
      " 16%|█▌        | 465/3000 [00:15<01:21, 31.25it/s]"
     ]
    },
    {
     "name": "stdout",
     "output_type": "stream",
     "text": [
      "Epoch: 460, Loss: 0.009929434730742846\n"
     ]
    },
    {
     "name": "stderr",
     "output_type": "stream",
     "text": [
      " 16%|█▌        | 485/3000 [00:15<01:20, 31.18it/s]"
     ]
    },
    {
     "name": "stdout",
     "output_type": "stream",
     "text": [
      "Epoch: 480, Loss: 0.009890376904019718\n"
     ]
    },
    {
     "name": "stderr",
     "output_type": "stream",
     "text": [
      " 17%|█▋        | 505/3000 [00:16<01:19, 31.31it/s]"
     ]
    },
    {
     "name": "stdout",
     "output_type": "stream",
     "text": [
      "Epoch: 500, Loss: 0.00977588595157126\n"
     ]
    },
    {
     "name": "stderr",
     "output_type": "stream",
     "text": [
      " 18%|█▊        | 525/3000 [00:17<01:18, 31.41it/s]"
     ]
    },
    {
     "name": "stdout",
     "output_type": "stream",
     "text": [
      "Epoch: 520, Loss: 0.009776013647272066\n"
     ]
    },
    {
     "name": "stderr",
     "output_type": "stream",
     "text": [
      " 18%|█▊        | 545/3000 [00:17<01:18, 31.17it/s]"
     ]
    },
    {
     "name": "stdout",
     "output_type": "stream",
     "text": [
      "Epoch: 540, Loss: 0.00965646556271679\n"
     ]
    },
    {
     "name": "stderr",
     "output_type": "stream",
     "text": [
      " 19%|█▉        | 565/3000 [00:18<01:18, 31.21it/s]"
     ]
    },
    {
     "name": "stdout",
     "output_type": "stream",
     "text": [
      "Epoch: 560, Loss: 0.009559449742591824\n"
     ]
    },
    {
     "name": "stderr",
     "output_type": "stream",
     "text": [
      " 20%|█▉        | 585/3000 [00:19<01:16, 31.40it/s]"
     ]
    },
    {
     "name": "stdout",
     "output_type": "stream",
     "text": [
      "Epoch: 580, Loss: 0.009426230913992042\n"
     ]
    },
    {
     "name": "stderr",
     "output_type": "stream",
     "text": [
      " 20%|██        | 605/3000 [00:19<01:16, 31.31it/s]"
     ]
    },
    {
     "name": "stdout",
     "output_type": "stream",
     "text": [
      "Epoch: 600, Loss: 0.009334756823699629\n"
     ]
    },
    {
     "name": "stderr",
     "output_type": "stream",
     "text": [
      " 21%|██        | 625/3000 [00:20<01:15, 31.30it/s]"
     ]
    },
    {
     "name": "stdout",
     "output_type": "stream",
     "text": [
      "Epoch: 620, Loss: 0.009285329163204636\n"
     ]
    },
    {
     "name": "stderr",
     "output_type": "stream",
     "text": [
      " 22%|██▏       | 645/3000 [00:21<01:15, 31.30it/s]"
     ]
    },
    {
     "name": "stdout",
     "output_type": "stream",
     "text": [
      "Epoch: 640, Loss: 0.009199297388030062\n"
     ]
    },
    {
     "name": "stderr",
     "output_type": "stream",
     "text": [
      " 22%|██▏       | 665/3000 [00:21<01:14, 31.32it/s]"
     ]
    },
    {
     "name": "stdout",
     "output_type": "stream",
     "text": [
      "Epoch: 660, Loss: 0.00905072159053148\n"
     ]
    },
    {
     "name": "stderr",
     "output_type": "stream",
     "text": [
      " 23%|██▎       | 685/3000 [00:22<01:13, 31.29it/s]"
     ]
    },
    {
     "name": "stdout",
     "output_type": "stream",
     "text": [
      "Epoch: 680, Loss: 0.008997082481383317\n"
     ]
    },
    {
     "name": "stderr",
     "output_type": "stream",
     "text": [
      " 24%|██▎       | 705/3000 [00:22<01:13, 31.06it/s]"
     ]
    },
    {
     "name": "stdout",
     "output_type": "stream",
     "text": [
      "Epoch: 700, Loss: 0.00888883190544732\n"
     ]
    },
    {
     "name": "stderr",
     "output_type": "stream",
     "text": [
      " 24%|██▍       | 725/3000 [00:23<01:12, 31.26it/s]"
     ]
    },
    {
     "name": "stdout",
     "output_type": "stream",
     "text": [
      "Epoch: 720, Loss: 0.008784406175420542\n"
     ]
    },
    {
     "name": "stderr",
     "output_type": "stream",
     "text": [
      " 25%|██▍       | 745/3000 [00:24<01:12, 31.28it/s]"
     ]
    },
    {
     "name": "stdout",
     "output_type": "stream",
     "text": [
      "Epoch: 740, Loss: 0.008650017466172812\n"
     ]
    },
    {
     "name": "stderr",
     "output_type": "stream",
     "text": [
      " 26%|██▌       | 765/3000 [00:24<01:11, 31.34it/s]"
     ]
    },
    {
     "name": "stdout",
     "output_type": "stream",
     "text": [
      "Epoch: 760, Loss: 0.008561159048828983\n"
     ]
    },
    {
     "name": "stderr",
     "output_type": "stream",
     "text": [
      " 26%|██▌       | 785/3000 [00:25<01:10, 31.27it/s]"
     ]
    },
    {
     "name": "stdout",
     "output_type": "stream",
     "text": [
      "Epoch: 780, Loss: 0.008443286649679464\n"
     ]
    },
    {
     "name": "stderr",
     "output_type": "stream",
     "text": [
      " 27%|██▋       | 805/3000 [00:26<01:10, 31.29it/s]"
     ]
    },
    {
     "name": "stdout",
     "output_type": "stream",
     "text": [
      "Epoch: 800, Loss: 0.008333457612836668\n"
     ]
    },
    {
     "name": "stderr",
     "output_type": "stream",
     "text": [
      " 28%|██▊       | 825/3000 [00:26<01:09, 31.20it/s]"
     ]
    },
    {
     "name": "stdout",
     "output_type": "stream",
     "text": [
      "Epoch: 820, Loss: 0.008244055676321572\n"
     ]
    },
    {
     "name": "stderr",
     "output_type": "stream",
     "text": [
      " 28%|██▊       | 845/3000 [00:27<01:08, 31.26it/s]"
     ]
    },
    {
     "name": "stdout",
     "output_type": "stream",
     "text": [
      "Epoch: 840, Loss: 0.008125298696156733\n"
     ]
    },
    {
     "name": "stderr",
     "output_type": "stream",
     "text": [
      " 29%|██▉       | 865/3000 [00:28<01:08, 31.17it/s]"
     ]
    },
    {
     "name": "stdout",
     "output_type": "stream",
     "text": [
      "Epoch: 860, Loss: 0.007981598557677999\n"
     ]
    },
    {
     "name": "stderr",
     "output_type": "stream",
     "text": [
      " 30%|██▉       | 885/3000 [00:28<01:07, 31.37it/s]"
     ]
    },
    {
     "name": "stdout",
     "output_type": "stream",
     "text": [
      "Epoch: 880, Loss: 0.007928315331377007\n"
     ]
    },
    {
     "name": "stderr",
     "output_type": "stream",
     "text": [
      " 30%|███       | 905/3000 [00:29<01:07, 31.24it/s]"
     ]
    },
    {
     "name": "stdout",
     "output_type": "stream",
     "text": [
      "Epoch: 900, Loss: 0.007795231398847022\n"
     ]
    },
    {
     "name": "stderr",
     "output_type": "stream",
     "text": [
      " 31%|███       | 925/3000 [00:30<01:06, 31.14it/s]"
     ]
    },
    {
     "name": "stdout",
     "output_type": "stream",
     "text": [
      "Epoch: 920, Loss: 0.007616794501471418\n"
     ]
    },
    {
     "name": "stderr",
     "output_type": "stream",
     "text": [
      " 32%|███▏      | 945/3000 [00:30<01:05, 31.33it/s]"
     ]
    },
    {
     "name": "stdout",
     "output_type": "stream",
     "text": [
      "Epoch: 940, Loss: 0.007565638357601472\n"
     ]
    },
    {
     "name": "stderr",
     "output_type": "stream",
     "text": [
      " 32%|███▏      | 965/3000 [00:31<01:05, 31.25it/s]"
     ]
    },
    {
     "name": "stdout",
     "output_type": "stream",
     "text": [
      "Epoch: 960, Loss: 0.007418866882289505\n"
     ]
    },
    {
     "name": "stderr",
     "output_type": "stream",
     "text": [
      " 33%|███▎      | 985/3000 [00:31<01:04, 31.25it/s]"
     ]
    },
    {
     "name": "stdout",
     "output_type": "stream",
     "text": [
      "Epoch: 980, Loss: 0.007257085981455624\n"
     ]
    },
    {
     "name": "stderr",
     "output_type": "stream",
     "text": [
      " 34%|███▎      | 1005/3000 [00:32<01:03, 31.21it/s]"
     ]
    },
    {
     "name": "stdout",
     "output_type": "stream",
     "text": [
      "Epoch: 1000, Loss: 0.007125842193922978\n"
     ]
    },
    {
     "name": "stderr",
     "output_type": "stream",
     "text": [
      " 34%|███▍      | 1025/3000 [00:33<01:03, 31.27it/s]"
     ]
    },
    {
     "name": "stdout",
     "output_type": "stream",
     "text": [
      "Epoch: 1020, Loss: 0.007022791196940261\n"
     ]
    },
    {
     "name": "stderr",
     "output_type": "stream",
     "text": [
      " 35%|███▍      | 1045/3000 [00:33<01:02, 31.22it/s]"
     ]
    },
    {
     "name": "stdout",
     "output_type": "stream",
     "text": [
      "Epoch: 1040, Loss: 0.00683882147699137\n"
     ]
    },
    {
     "name": "stderr",
     "output_type": "stream",
     "text": [
      " 36%|███▌      | 1065/3000 [00:34<01:01, 31.44it/s]"
     ]
    },
    {
     "name": "stdout",
     "output_type": "stream",
     "text": [
      "Epoch: 1060, Loss: 0.006872733433907712\n"
     ]
    },
    {
     "name": "stderr",
     "output_type": "stream",
     "text": [
      " 36%|███▌      | 1085/3000 [00:35<01:01, 31.38it/s]"
     ]
    },
    {
     "name": "stdout",
     "output_type": "stream",
     "text": [
      "Epoch: 1080, Loss: 0.006620128263737419\n"
     ]
    },
    {
     "name": "stderr",
     "output_type": "stream",
     "text": [
      " 37%|███▋      | 1105/3000 [00:35<01:00, 31.27it/s]"
     ]
    },
    {
     "name": "stdout",
     "output_type": "stream",
     "text": [
      "Epoch: 1100, Loss: 0.006560009588390727\n"
     ]
    },
    {
     "name": "stderr",
     "output_type": "stream",
     "text": [
      " 38%|███▊      | 1125/3000 [00:36<00:59, 31.34it/s]"
     ]
    },
    {
     "name": "stdout",
     "output_type": "stream",
     "text": [
      "Epoch: 1120, Loss: 0.006397384230792653\n"
     ]
    },
    {
     "name": "stderr",
     "output_type": "stream",
     "text": [
      " 38%|███▊      | 1145/3000 [00:37<00:59, 31.20it/s]"
     ]
    },
    {
     "name": "stdout",
     "output_type": "stream",
     "text": [
      "Epoch: 1140, Loss: 0.0062575450488572045\n"
     ]
    },
    {
     "name": "stderr",
     "output_type": "stream",
     "text": [
      " 39%|███▉      | 1165/3000 [00:37<00:59, 30.93it/s]"
     ]
    },
    {
     "name": "stdout",
     "output_type": "stream",
     "text": [
      "Epoch: 1160, Loss: 0.00605090834229415\n"
     ]
    },
    {
     "name": "stderr",
     "output_type": "stream",
     "text": [
      " 40%|███▉      | 1185/3000 [00:38<00:58, 31.17it/s]"
     ]
    },
    {
     "name": "stdout",
     "output_type": "stream",
     "text": [
      "Epoch: 1180, Loss: 0.005960389147366527\n"
     ]
    },
    {
     "name": "stderr",
     "output_type": "stream",
     "text": [
      " 40%|████      | 1205/3000 [00:39<00:57, 31.27it/s]"
     ]
    },
    {
     "name": "stdout",
     "output_type": "stream",
     "text": [
      "Epoch: 1200, Loss: 0.0058335059710749705\n"
     ]
    },
    {
     "name": "stderr",
     "output_type": "stream",
     "text": [
      " 41%|████      | 1225/3000 [00:39<00:57, 31.10it/s]"
     ]
    },
    {
     "name": "stdout",
     "output_type": "stream",
     "text": [
      "Epoch: 1220, Loss: 0.005699570327878263\n"
     ]
    },
    {
     "name": "stderr",
     "output_type": "stream",
     "text": [
      " 42%|████▏     | 1245/3000 [00:40<00:56, 31.34it/s]"
     ]
    },
    {
     "name": "stdout",
     "output_type": "stream",
     "text": [
      "Epoch: 1240, Loss: 0.005601658211921938\n"
     ]
    },
    {
     "name": "stderr",
     "output_type": "stream",
     "text": [
      " 42%|████▏     | 1265/3000 [00:40<00:55, 31.47it/s]"
     ]
    },
    {
     "name": "stdout",
     "output_type": "stream",
     "text": [
      "Epoch: 1260, Loss: 0.005528136172744525\n"
     ]
    },
    {
     "name": "stderr",
     "output_type": "stream",
     "text": [
      " 43%|████▎     | 1285/3000 [00:41<00:54, 31.43it/s]"
     ]
    },
    {
     "name": "stdout",
     "output_type": "stream",
     "text": [
      "Epoch: 1280, Loss: 0.0053255622836621795\n"
     ]
    },
    {
     "name": "stderr",
     "output_type": "stream",
     "text": [
      " 44%|████▎     | 1305/3000 [00:42<00:54, 31.33it/s]"
     ]
    },
    {
     "name": "stdout",
     "output_type": "stream",
     "text": [
      "Epoch: 1300, Loss: 0.0052588634164318845\n"
     ]
    },
    {
     "name": "stderr",
     "output_type": "stream",
     "text": [
      " 44%|████▍     | 1325/3000 [00:42<00:53, 31.13it/s]"
     ]
    },
    {
     "name": "stdout",
     "output_type": "stream",
     "text": [
      "Epoch: 1320, Loss: 0.005116122762194095\n"
     ]
    },
    {
     "name": "stderr",
     "output_type": "stream",
     "text": [
      " 45%|████▍     | 1345/3000 [00:43<00:53, 31.22it/s]"
     ]
    },
    {
     "name": "stdout",
     "output_type": "stream",
     "text": [
      "Epoch: 1340, Loss: 0.004961012467312145\n"
     ]
    },
    {
     "name": "stderr",
     "output_type": "stream",
     "text": [
      " 46%|████▌     | 1365/3000 [00:44<00:52, 31.15it/s]"
     ]
    },
    {
     "name": "stdout",
     "output_type": "stream",
     "text": [
      "Epoch: 1360, Loss: 0.004769822899042993\n"
     ]
    },
    {
     "name": "stderr",
     "output_type": "stream",
     "text": [
      " 46%|████▌     | 1385/3000 [00:44<00:51, 31.23it/s]"
     ]
    },
    {
     "name": "stdout",
     "output_type": "stream",
     "text": [
      "Epoch: 1380, Loss: 0.0046883259882926605\n"
     ]
    },
    {
     "name": "stderr",
     "output_type": "stream",
     "text": [
      " 47%|████▋     | 1405/3000 [00:45<00:51, 31.10it/s]"
     ]
    },
    {
     "name": "stdout",
     "output_type": "stream",
     "text": [
      "Epoch: 1400, Loss: 0.004569345236349653\n"
     ]
    },
    {
     "name": "stderr",
     "output_type": "stream",
     "text": [
      " 48%|████▊     | 1425/3000 [00:46<00:50, 31.22it/s]"
     ]
    },
    {
     "name": "stdout",
     "output_type": "stream",
     "text": [
      "Epoch: 1420, Loss: 0.00445380501892302\n"
     ]
    },
    {
     "name": "stderr",
     "output_type": "stream",
     "text": [
      " 48%|████▊     | 1445/3000 [00:46<00:49, 31.32it/s]"
     ]
    },
    {
     "name": "stdout",
     "output_type": "stream",
     "text": [
      "Epoch: 1440, Loss: 0.004323190396499968\n"
     ]
    },
    {
     "name": "stderr",
     "output_type": "stream",
     "text": [
      " 49%|████▉     | 1465/3000 [00:47<00:49, 31.15it/s]"
     ]
    },
    {
     "name": "stdout",
     "output_type": "stream",
     "text": [
      "Epoch: 1460, Loss: 0.004219522439581879\n"
     ]
    },
    {
     "name": "stderr",
     "output_type": "stream",
     "text": [
      " 50%|████▉     | 1485/3000 [00:48<00:48, 31.15it/s]"
     ]
    },
    {
     "name": "stdout",
     "output_type": "stream",
     "text": [
      "Epoch: 1480, Loss: 0.004092373584192792\n"
     ]
    },
    {
     "name": "stderr",
     "output_type": "stream",
     "text": [
      " 50%|█████     | 1505/3000 [00:48<00:48, 31.12it/s]"
     ]
    },
    {
     "name": "stdout",
     "output_type": "stream",
     "text": [
      "Epoch: 1500, Loss: 0.003956712503128559\n"
     ]
    },
    {
     "name": "stderr",
     "output_type": "stream",
     "text": [
      " 51%|█████     | 1525/3000 [00:49<00:47, 31.12it/s]"
     ]
    },
    {
     "name": "stdout",
     "output_type": "stream",
     "text": [
      "Epoch: 1520, Loss: 0.0038779430796308588\n"
     ]
    },
    {
     "name": "stderr",
     "output_type": "stream",
     "text": [
      " 52%|█████▏    | 1545/3000 [00:49<00:46, 31.15it/s]"
     ]
    },
    {
     "name": "stdout",
     "output_type": "stream",
     "text": [
      "Epoch: 1540, Loss: 0.0037780222682834187\n"
     ]
    },
    {
     "name": "stderr",
     "output_type": "stream",
     "text": [
      " 52%|█████▏    | 1565/3000 [00:50<00:45, 31.33it/s]"
     ]
    },
    {
     "name": "stdout",
     "output_type": "stream",
     "text": [
      "Epoch: 1560, Loss: 0.0037179510033396924\n"
     ]
    },
    {
     "name": "stderr",
     "output_type": "stream",
     "text": [
      " 53%|█████▎    | 1585/3000 [00:51<00:45, 31.26it/s]"
     ]
    },
    {
     "name": "stdout",
     "output_type": "stream",
     "text": [
      "Epoch: 1580, Loss: 0.0035796904518143437\n"
     ]
    },
    {
     "name": "stderr",
     "output_type": "stream",
     "text": [
      " 54%|█████▎    | 1605/3000 [00:51<00:44, 31.31it/s]"
     ]
    },
    {
     "name": "stdout",
     "output_type": "stream",
     "text": [
      "Epoch: 1600, Loss: 0.003449318267051782\n"
     ]
    },
    {
     "name": "stderr",
     "output_type": "stream",
     "text": [
      " 54%|█████▍    | 1625/3000 [00:52<00:43, 31.45it/s]"
     ]
    },
    {
     "name": "stdout",
     "output_type": "stream",
     "text": [
      "Epoch: 1620, Loss: 0.0034120013829519458\n"
     ]
    },
    {
     "name": "stderr",
     "output_type": "stream",
     "text": [
      " 55%|█████▍    | 1645/3000 [00:53<00:43, 31.18it/s]"
     ]
    },
    {
     "name": "stdout",
     "output_type": "stream",
     "text": [
      "Epoch: 1640, Loss: 0.0033301875226585762\n"
     ]
    },
    {
     "name": "stderr",
     "output_type": "stream",
     "text": [
      " 56%|█████▌    | 1665/3000 [00:53<00:42, 31.17it/s]"
     ]
    },
    {
     "name": "stdout",
     "output_type": "stream",
     "text": [
      "Epoch: 1660, Loss: 0.003119406827732549\n"
     ]
    },
    {
     "name": "stderr",
     "output_type": "stream",
     "text": [
      " 56%|█████▌    | 1685/3000 [00:54<00:42, 31.20it/s]"
     ]
    },
    {
     "name": "stdout",
     "output_type": "stream",
     "text": [
      "Epoch: 1680, Loss: 0.0030403933392597992\n"
     ]
    },
    {
     "name": "stderr",
     "output_type": "stream",
     "text": [
      " 57%|█████▋    | 1705/3000 [00:55<00:41, 31.27it/s]"
     ]
    },
    {
     "name": "stdout",
     "output_type": "stream",
     "text": [
      "Epoch: 1700, Loss: 0.002984669713418171\n"
     ]
    },
    {
     "name": "stderr",
     "output_type": "stream",
     "text": [
      " 57%|█████▊    | 1725/3000 [00:55<00:40, 31.15it/s]"
     ]
    },
    {
     "name": "stdout",
     "output_type": "stream",
     "text": [
      "Epoch: 1720, Loss: 0.002897756475070423\n"
     ]
    },
    {
     "name": "stderr",
     "output_type": "stream",
     "text": [
      " 58%|█████▊    | 1745/3000 [00:56<00:40, 31.37it/s]"
     ]
    },
    {
     "name": "stdout",
     "output_type": "stream",
     "text": [
      "Epoch: 1740, Loss: 0.002800097757699105\n"
     ]
    },
    {
     "name": "stderr",
     "output_type": "stream",
     "text": [
      " 59%|█████▉    | 1765/3000 [00:56<00:39, 31.45it/s]"
     ]
    },
    {
     "name": "stdout",
     "output_type": "stream",
     "text": [
      "Epoch: 1760, Loss: 0.002738122373884835\n"
     ]
    },
    {
     "name": "stderr",
     "output_type": "stream",
     "text": [
      " 60%|█████▉    | 1785/3000 [00:57<00:39, 31.07it/s]"
     ]
    },
    {
     "name": "stdout",
     "output_type": "stream",
     "text": [
      "Epoch: 1780, Loss: 0.0026830266512479282\n"
     ]
    },
    {
     "name": "stderr",
     "output_type": "stream",
     "text": [
      " 60%|██████    | 1805/3000 [00:58<00:38, 31.10it/s]"
     ]
    },
    {
     "name": "stdout",
     "output_type": "stream",
     "text": [
      "Epoch: 1800, Loss: 0.0025778866155671664\n"
     ]
    },
    {
     "name": "stderr",
     "output_type": "stream",
     "text": [
      " 61%|██████    | 1825/3000 [00:58<00:37, 31.29it/s]"
     ]
    },
    {
     "name": "stdout",
     "output_type": "stream",
     "text": [
      "Epoch: 1820, Loss: 0.002601608724507969\n"
     ]
    },
    {
     "name": "stderr",
     "output_type": "stream",
     "text": [
      " 62%|██████▏   | 1845/3000 [00:59<00:37, 31.20it/s]"
     ]
    },
    {
     "name": "stdout",
     "output_type": "stream",
     "text": [
      "Epoch: 1840, Loss: 0.002520882782409899\n"
     ]
    },
    {
     "name": "stderr",
     "output_type": "stream",
     "text": [
      " 62%|██████▏   | 1865/3000 [01:00<00:36, 31.27it/s]"
     ]
    },
    {
     "name": "stdout",
     "output_type": "stream",
     "text": [
      "Epoch: 1860, Loss: 0.0024461302638519554\n"
     ]
    },
    {
     "name": "stderr",
     "output_type": "stream",
     "text": [
      " 63%|██████▎   | 1885/3000 [01:00<00:35, 31.26it/s]"
     ]
    },
    {
     "name": "stdout",
     "output_type": "stream",
     "text": [
      "Epoch: 1880, Loss: 0.0023977506851224463\n"
     ]
    },
    {
     "name": "stderr",
     "output_type": "stream",
     "text": [
      " 64%|██████▎   | 1905/3000 [01:01<00:34, 31.30it/s]"
     ]
    },
    {
     "name": "stdout",
     "output_type": "stream",
     "text": [
      "Epoch: 1900, Loss: 0.0023800854355067714\n"
     ]
    },
    {
     "name": "stderr",
     "output_type": "stream",
     "text": [
      " 64%|██████▍   | 1925/3000 [01:02<00:34, 31.24it/s]"
     ]
    },
    {
     "name": "stdout",
     "output_type": "stream",
     "text": [
      "Epoch: 1920, Loss: 0.002440978806844214\n"
     ]
    },
    {
     "name": "stderr",
     "output_type": "stream",
     "text": [
      " 65%|██████▍   | 1945/3000 [01:02<00:34, 31.00it/s]"
     ]
    },
    {
     "name": "stdout",
     "output_type": "stream",
     "text": [
      "Epoch: 1940, Loss: 0.0022329202236869607\n"
     ]
    },
    {
     "name": "stderr",
     "output_type": "stream",
     "text": [
      " 66%|██████▌   | 1965/3000 [01:03<00:33, 31.18it/s]"
     ]
    },
    {
     "name": "stdout",
     "output_type": "stream",
     "text": [
      "Epoch: 1960, Loss: 0.0022969188797287645\n"
     ]
    },
    {
     "name": "stderr",
     "output_type": "stream",
     "text": [
      " 66%|██████▌   | 1985/3000 [01:04<00:32, 31.32it/s]"
     ]
    },
    {
     "name": "stdout",
     "output_type": "stream",
     "text": [
      "Epoch: 1980, Loss: 0.0023758051730692386\n"
     ]
    },
    {
     "name": "stderr",
     "output_type": "stream",
     "text": [
      " 67%|██████▋   | 2005/3000 [01:04<00:31, 31.33it/s]"
     ]
    },
    {
     "name": "stdout",
     "output_type": "stream",
     "text": [
      "Epoch: 2000, Loss: 0.0023033733930788005\n"
     ]
    },
    {
     "name": "stderr",
     "output_type": "stream",
     "text": [
      " 68%|██████▊   | 2025/3000 [01:05<00:31, 31.24it/s]"
     ]
    },
    {
     "name": "stdout",
     "output_type": "stream",
     "text": [
      "Epoch: 2020, Loss: 0.0022402824943128508\n"
     ]
    },
    {
     "name": "stderr",
     "output_type": "stream",
     "text": [
      " 68%|██████▊   | 2045/3000 [01:05<00:30, 31.31it/s]"
     ]
    },
    {
     "name": "stdout",
     "output_type": "stream",
     "text": [
      "Epoch: 2040, Loss: 0.0021132523380219936\n"
     ]
    },
    {
     "name": "stderr",
     "output_type": "stream",
     "text": [
      " 69%|██████▉   | 2065/3000 [01:06<00:29, 31.29it/s]"
     ]
    },
    {
     "name": "stdout",
     "output_type": "stream",
     "text": [
      "Epoch: 2060, Loss: 0.0023294626379720285\n"
     ]
    },
    {
     "name": "stderr",
     "output_type": "stream",
     "text": [
      " 70%|██████▉   | 2085/3000 [01:07<00:29, 30.87it/s]"
     ]
    },
    {
     "name": "stdout",
     "output_type": "stream",
     "text": [
      "Epoch: 2080, Loss: 0.0024146535602631047\n"
     ]
    },
    {
     "name": "stderr",
     "output_type": "stream",
     "text": [
      " 70%|███████   | 2105/3000 [01:07<00:28, 31.28it/s]"
     ]
    },
    {
     "name": "stdout",
     "output_type": "stream",
     "text": [
      "Epoch: 2100, Loss: 0.0024409821239532903\n"
     ]
    },
    {
     "name": "stderr",
     "output_type": "stream",
     "text": [
      " 71%|███████   | 2125/3000 [01:08<00:27, 31.25it/s]"
     ]
    },
    {
     "name": "stdout",
     "output_type": "stream",
     "text": [
      "Epoch: 2120, Loss: 0.0021330323661095463\n"
     ]
    },
    {
     "name": "stderr",
     "output_type": "stream",
     "text": [
      " 72%|███████▏  | 2145/3000 [01:09<00:27, 31.20it/s]"
     ]
    },
    {
     "name": "stdout",
     "output_type": "stream",
     "text": [
      "Epoch: 2140, Loss: 0.0026348021187004634\n"
     ]
    },
    {
     "name": "stderr",
     "output_type": "stream",
     "text": [
      " 72%|███████▏  | 2165/3000 [01:09<00:26, 31.26it/s]"
     ]
    },
    {
     "name": "stdout",
     "output_type": "stream",
     "text": [
      "Epoch: 2160, Loss: 0.0025415714533301072\n"
     ]
    },
    {
     "name": "stderr",
     "output_type": "stream",
     "text": [
      " 73%|███████▎  | 2185/3000 [01:10<00:26, 31.31it/s]"
     ]
    },
    {
     "name": "stdout",
     "output_type": "stream",
     "text": [
      "Epoch: 2180, Loss: 0.0023435002824408\n"
     ]
    },
    {
     "name": "stderr",
     "output_type": "stream",
     "text": [
      " 74%|███████▎  | 2205/3000 [01:11<00:25, 31.27it/s]"
     ]
    },
    {
     "name": "stdout",
     "output_type": "stream",
     "text": [
      "Epoch: 2200, Loss: 0.0027301939998869785\n"
     ]
    },
    {
     "name": "stderr",
     "output_type": "stream",
     "text": [
      " 74%|███████▍  | 2225/3000 [01:11<00:24, 31.23it/s]"
     ]
    },
    {
     "name": "stdout",
     "output_type": "stream",
     "text": [
      "Epoch: 2220, Loss: 0.0025486513689975255\n"
     ]
    },
    {
     "name": "stderr",
     "output_type": "stream",
     "text": [
      " 75%|███████▍  | 2245/3000 [01:12<00:24, 31.27it/s]"
     ]
    },
    {
     "name": "stdout",
     "output_type": "stream",
     "text": [
      "Epoch: 2240, Loss: 0.0031010525382953345\n"
     ]
    },
    {
     "name": "stderr",
     "output_type": "stream",
     "text": [
      " 76%|███████▌  | 2265/3000 [01:13<00:23, 31.36it/s]"
     ]
    },
    {
     "name": "stdout",
     "output_type": "stream",
     "text": [
      "Epoch: 2260, Loss: 0.002797290684102336\n"
     ]
    },
    {
     "name": "stderr",
     "output_type": "stream",
     "text": [
      " 76%|███████▌  | 2285/3000 [01:13<00:22, 31.22it/s]"
     ]
    },
    {
     "name": "stdout",
     "output_type": "stream",
     "text": [
      "Epoch: 2280, Loss: 0.002314068572304677\n"
     ]
    },
    {
     "name": "stderr",
     "output_type": "stream",
     "text": [
      " 77%|███████▋  | 2305/3000 [01:14<00:22, 31.20it/s]"
     ]
    },
    {
     "name": "stdout",
     "output_type": "stream",
     "text": [
      "Epoch: 2300, Loss: 0.002805547181633301\n"
     ]
    },
    {
     "name": "stderr",
     "output_type": "stream",
     "text": [
      " 78%|███████▊  | 2325/3000 [01:14<00:21, 31.35it/s]"
     ]
    },
    {
     "name": "stdout",
     "output_type": "stream",
     "text": [
      "Epoch: 2320, Loss: 0.0029823137015046086\n"
     ]
    },
    {
     "name": "stderr",
     "output_type": "stream",
     "text": [
      " 78%|███████▊  | 2345/3000 [01:15<00:20, 31.28it/s]"
     ]
    },
    {
     "name": "stdout",
     "output_type": "stream",
     "text": [
      "Epoch: 2340, Loss: 0.0030484681800408\n"
     ]
    },
    {
     "name": "stderr",
     "output_type": "stream",
     "text": [
      " 79%|███████▉  | 2365/3000 [01:16<00:20, 30.79it/s]"
     ]
    },
    {
     "name": "stdout",
     "output_type": "stream",
     "text": [
      "Epoch: 2360, Loss: 0.0039095789966086154\n"
     ]
    },
    {
     "name": "stderr",
     "output_type": "stream",
     "text": [
      " 80%|███████▉  | 2385/3000 [01:16<00:19, 31.28it/s]"
     ]
    },
    {
     "name": "stdout",
     "output_type": "stream",
     "text": [
      "Epoch: 2380, Loss: 0.002875056636694353\n"
     ]
    },
    {
     "name": "stderr",
     "output_type": "stream",
     "text": [
      " 80%|████████  | 2405/3000 [01:17<00:19, 31.19it/s]"
     ]
    },
    {
     "name": "stdout",
     "output_type": "stream",
     "text": [
      "Epoch: 2400, Loss: 0.0031228986330097542\n"
     ]
    },
    {
     "name": "stderr",
     "output_type": "stream",
     "text": [
      " 81%|████████  | 2425/3000 [01:18<00:18, 31.11it/s]"
     ]
    },
    {
     "name": "stdout",
     "output_type": "stream",
     "text": [
      "Epoch: 2420, Loss: 0.003237640424949859\n"
     ]
    },
    {
     "name": "stderr",
     "output_type": "stream",
     "text": [
      " 82%|████████▏ | 2445/3000 [01:18<00:17, 31.19it/s]"
     ]
    },
    {
     "name": "stdout",
     "output_type": "stream",
     "text": [
      "Epoch: 2440, Loss: 0.0031364872241195483\n"
     ]
    },
    {
     "name": "stderr",
     "output_type": "stream",
     "text": [
      " 82%|████████▏ | 2465/3000 [01:19<00:17, 31.25it/s]"
     ]
    },
    {
     "name": "stdout",
     "output_type": "stream",
     "text": [
      "Epoch: 2460, Loss: 0.0040521742098463594\n"
     ]
    },
    {
     "name": "stderr",
     "output_type": "stream",
     "text": [
      " 83%|████████▎ | 2485/3000 [01:20<00:16, 31.15it/s]"
     ]
    },
    {
     "name": "stdout",
     "output_type": "stream",
     "text": [
      "Epoch: 2480, Loss: 0.003743666117463409\n"
     ]
    },
    {
     "name": "stderr",
     "output_type": "stream",
     "text": [
      " 84%|████████▎ | 2505/3000 [01:20<00:15, 31.32it/s]"
     ]
    },
    {
     "name": "stdout",
     "output_type": "stream",
     "text": [
      "Epoch: 2500, Loss: 0.0038877486676102534\n"
     ]
    },
    {
     "name": "stderr",
     "output_type": "stream",
     "text": [
      " 84%|████████▍ | 2525/3000 [01:21<00:15, 31.33it/s]"
     ]
    },
    {
     "name": "stdout",
     "output_type": "stream",
     "text": [
      "Epoch: 2520, Loss: 0.0033478221133455667\n"
     ]
    },
    {
     "name": "stderr",
     "output_type": "stream",
     "text": [
      " 85%|████████▍ | 2545/3000 [01:22<00:14, 31.32it/s]"
     ]
    },
    {
     "name": "stdout",
     "output_type": "stream",
     "text": [
      "Epoch: 2540, Loss: 0.0047862273438062175\n"
     ]
    },
    {
     "name": "stderr",
     "output_type": "stream",
     "text": [
      " 86%|████████▌ | 2565/3000 [01:22<00:13, 31.31it/s]"
     ]
    },
    {
     "name": "stdout",
     "output_type": "stream",
     "text": [
      "Epoch: 2560, Loss: 0.003948816412236198\n"
     ]
    },
    {
     "name": "stderr",
     "output_type": "stream",
     "text": [
      " 86%|████████▌ | 2585/3000 [01:23<00:13, 31.20it/s]"
     ]
    },
    {
     "name": "stdout",
     "output_type": "stream",
     "text": [
      "Epoch: 2580, Loss: 0.00446795116687241\n"
     ]
    },
    {
     "name": "stderr",
     "output_type": "stream",
     "text": [
      " 87%|████████▋ | 2605/3000 [01:23<00:12, 31.32it/s]"
     ]
    },
    {
     "name": "stdout",
     "output_type": "stream",
     "text": [
      "Epoch: 2600, Loss: 0.005443866836668008\n"
     ]
    },
    {
     "name": "stderr",
     "output_type": "stream",
     "text": [
      " 88%|████████▊ | 2625/3000 [01:24<00:11, 31.33it/s]"
     ]
    },
    {
     "name": "stdout",
     "output_type": "stream",
     "text": [
      "Epoch: 2620, Loss: 0.0046206716067272065\n"
     ]
    },
    {
     "name": "stderr",
     "output_type": "stream",
     "text": [
      " 88%|████████▊ | 2645/3000 [01:25<00:11, 31.26it/s]"
     ]
    },
    {
     "name": "stdout",
     "output_type": "stream",
     "text": [
      "Epoch: 2640, Loss: 0.004403843275036294\n"
     ]
    },
    {
     "name": "stderr",
     "output_type": "stream",
     "text": [
      " 89%|████████▉ | 2665/3000 [01:25<00:10, 31.36it/s]"
     ]
    },
    {
     "name": "stdout",
     "output_type": "stream",
     "text": [
      "Epoch: 2660, Loss: 0.004674639248191293\n"
     ]
    },
    {
     "name": "stderr",
     "output_type": "stream",
     "text": [
      " 90%|████████▉ | 2685/3000 [01:26<00:10, 31.28it/s]"
     ]
    },
    {
     "name": "stdout",
     "output_type": "stream",
     "text": [
      "Epoch: 2680, Loss: 0.005535740342801745\n"
     ]
    },
    {
     "name": "stderr",
     "output_type": "stream",
     "text": [
      " 90%|█████████ | 2705/3000 [01:27<00:09, 31.20it/s]"
     ]
    },
    {
     "name": "stdout",
     "output_type": "stream",
     "text": [
      "Epoch: 2700, Loss: 0.006049489606987351\n"
     ]
    },
    {
     "name": "stderr",
     "output_type": "stream",
     "text": [
      " 91%|█████████ | 2725/3000 [01:27<00:08, 31.17it/s]"
     ]
    },
    {
     "name": "stdout",
     "output_type": "stream",
     "text": [
      "Epoch: 2720, Loss: 0.006365506911317027\n"
     ]
    },
    {
     "name": "stderr",
     "output_type": "stream",
     "text": [
      " 92%|█████████▏| 2745/3000 [01:28<00:08, 31.24it/s]"
     ]
    },
    {
     "name": "stdout",
     "output_type": "stream",
     "text": [
      "Epoch: 2740, Loss: 0.005243799432320806\n"
     ]
    },
    {
     "name": "stderr",
     "output_type": "stream",
     "text": [
      " 92%|█████████▏| 2765/3000 [01:29<00:07, 31.23it/s]"
     ]
    },
    {
     "name": "stdout",
     "output_type": "stream",
     "text": [
      "Epoch: 2760, Loss: 0.005788046938349822\n"
     ]
    },
    {
     "name": "stderr",
     "output_type": "stream",
     "text": [
      " 93%|█████████▎| 2785/3000 [01:29<00:06, 30.90it/s]"
     ]
    },
    {
     "name": "stdout",
     "output_type": "stream",
     "text": [
      "Epoch: 2780, Loss: 0.006552665881239115\n"
     ]
    },
    {
     "name": "stderr",
     "output_type": "stream",
     "text": [
      " 94%|█████████▎| 2805/3000 [01:30<00:06, 31.13it/s]"
     ]
    },
    {
     "name": "stdout",
     "output_type": "stream",
     "text": [
      "Epoch: 2800, Loss: 0.0074652312553141085\n"
     ]
    },
    {
     "name": "stderr",
     "output_type": "stream",
     "text": [
      " 94%|█████████▍| 2825/3000 [01:31<00:05, 31.17it/s]"
     ]
    },
    {
     "name": "stdout",
     "output_type": "stream",
     "text": [
      "Epoch: 2820, Loss: 0.006991809958687733\n"
     ]
    },
    {
     "name": "stderr",
     "output_type": "stream",
     "text": [
      " 95%|█████████▍| 2845/3000 [01:31<00:04, 31.25it/s]"
     ]
    },
    {
     "name": "stdout",
     "output_type": "stream",
     "text": [
      "Epoch: 2840, Loss: 0.007073511922453726\n"
     ]
    },
    {
     "name": "stderr",
     "output_type": "stream",
     "text": [
      " 96%|█████████▌| 2865/3000 [01:32<00:04, 31.22it/s]"
     ]
    },
    {
     "name": "stdout",
     "output_type": "stream",
     "text": [
      "Epoch: 2860, Loss: 0.009677805118168124\n"
     ]
    },
    {
     "name": "stderr",
     "output_type": "stream",
     "text": [
      " 96%|█████████▌| 2885/3000 [01:32<00:03, 31.36it/s]"
     ]
    },
    {
     "name": "stdout",
     "output_type": "stream",
     "text": [
      "Epoch: 2880, Loss: 0.009089891524660061\n"
     ]
    },
    {
     "name": "stderr",
     "output_type": "stream",
     "text": [
      " 97%|█████████▋| 2905/3000 [01:33<00:03, 31.18it/s]"
     ]
    },
    {
     "name": "stdout",
     "output_type": "stream",
     "text": [
      "Epoch: 2900, Loss: 0.00663319513886429\n"
     ]
    },
    {
     "name": "stderr",
     "output_type": "stream",
     "text": [
      " 98%|█████████▊| 2925/3000 [01:34<00:02, 31.08it/s]"
     ]
    },
    {
     "name": "stdout",
     "output_type": "stream",
     "text": [
      "Epoch: 2920, Loss: 0.007775652279603946\n"
     ]
    },
    {
     "name": "stderr",
     "output_type": "stream",
     "text": [
      " 98%|█████████▊| 2945/3000 [01:34<00:01, 31.17it/s]"
     ]
    },
    {
     "name": "stdout",
     "output_type": "stream",
     "text": [
      "Epoch: 2940, Loss: 0.008132950477493068\n"
     ]
    },
    {
     "name": "stderr",
     "output_type": "stream",
     "text": [
      " 99%|█████████▉| 2965/3000 [01:35<00:01, 31.02it/s]"
     ]
    },
    {
     "name": "stdout",
     "output_type": "stream",
     "text": [
      "Epoch: 2960, Loss: 0.007730485029265992\n"
     ]
    },
    {
     "name": "stderr",
     "output_type": "stream",
     "text": [
      "100%|█████████▉| 2985/3000 [01:36<00:00, 31.29it/s]"
     ]
    },
    {
     "name": "stdout",
     "output_type": "stream",
     "text": [
      "Epoch: 2980, Loss: 0.010851728621373126\n"
     ]
    },
    {
     "name": "stderr",
     "output_type": "stream",
     "text": [
      "100%|██████████| 3000/3000 [01:36<00:00, 31.04it/s]\n"
     ]
    }
   ],
   "source": [
    "# manual simulation 3\n",
    "simu_epochs = 3000\n",
    "input_size = 230\n",
    "theo_gain = 3 * np.ones((input_size, 1))\n",
    "theo_shift = 1 * np.ones((input_size, 1))\n",
    "# init_gain = model_rep.gain.detach().numpy()\n",
    "# init_shift = model_rep.shift.detach().numpy()\n",
    "# init_weight = model_rep.weights.detach().numpy()\n",
    "init_gain = 3 * np.ones((input_size, 1))\n",
    "init_shift = 1 * np.ones((input_size, 1))\n",
    "init_weight = np.ones((1, input_size)) / input_size * 5.5\n",
    "gc_thresh = np.sqrt(input_size) * 0.01\n",
    "sc_thresh = np.sqrt(input_size) * 0.01\n",
    "narrow_factor = 0\n",
    "max_narrow_factor = 0.001\n",
    "narrow_up_rate = max_narrow_factor / 2000\n",
    "hebbian_lr = 0\n",
    "max_hebbian_lr = 0.001\n",
    "hebbian_up_rate = max_hebbian_lr / 1000\n",
    "oja_alpha = 12\n",
    "has_backprop = True\n",
    "has_boundary = False\n",
    "has_hebbian = False\n",
    "\n",
    "# define noise\n",
    "np.random.seed(42)\n",
    "W = np.eye(input_size) * 0.001\n",
    "x_noises = (np.random.multivariate_normal(mean=np.zeros(input_size), cov=W, size=simu_epochs)).T * 0\n",
    "x_noises = torch.tensor(x_noises, dtype=torch.float32)\n",
    "# x_noises += 0.1\n",
    "simu_losses = []\n",
    "gain_changes = []\n",
    "shift_changes = []\n",
    "weight_sums = []\n",
    "epoch_loss = 0\n",
    "\n",
    "for epoch in tqdm(range(simu_epochs), position=0, leave=True):\n",
    "\n",
    "    # shuffle data\n",
    "    perm_idx = torch.randperm(ndata)\n",
    "    shuffled_xs = xs[perm_idx]\n",
    "    shuffled_ys = ys[perm_idx]\n",
    "    last_epoch_loss = epoch_loss\n",
    "    epoch_loss = 0\n",
    "\n",
    "    # update hebbian learning rate\n",
    "    if has_hebbian:\n",
    "        hebbian_lr += hebbian_up_rate\n",
    " \n",
    "    if has_boundary:\n",
    "        # update narrow factor\n",
    "        narrow_factor += narrow_up_rate\n",
    "        # actively narrow the boundaries\n",
    "        if np.linalg.norm(gain_ub - theo_gain, 2) > gc_thresh:\n",
    "            gain_ub -= narrow_factor * (gain_ub - theo_gain)\n",
    "        if np.linalg.norm(gain_lb - theo_gain, 2) > gc_thresh:\n",
    "            gain_lb -= narrow_factor * (gain_lb - theo_gain)\n",
    "        if np.linalg.norm(shift_ub - theo_shift, 2) > sc_thresh:\n",
    "            shift_ub -= narrow_factor * (shift_ub - theo_shift)\n",
    "        if np.linalg.norm(shift_lb - theo_shift, 2) > sc_thresh:\n",
    "            shift_lb -= narrow_factor * (shift_lb - theo_shift)\n",
    "\n",
    "    for x, y in zip(shuffled_xs, shuffled_ys):\n",
    "        \n",
    "        # establish model\n",
    "        model = SimpleNeuralNetwork(input_size, init_gain, init_shift, init_weight)\n",
    "\n",
    "        # forward\n",
    "        inpu_ipl = model.gaussian_rf(x)\n",
    "        actv_ipl = model.activation_func(model.gain * (inpu_ipl - model.shift)) + (x_noises[:, epoch]).reshape(-1, 1)\n",
    "        # actv_ipl = model.activation_func(model.gain * (inpu_ipl - model.shift))\n",
    "        model.input_activation = actv_ipl.clone()\n",
    "        inpu_opl = torch.matmul(model.weights, actv_ipl)\n",
    "        actv_opl = model.activation_func(3 * (inpu_opl - 1))\n",
    "        model.output_activation = actv_opl.clone()\n",
    "\n",
    "        # loss\n",
    "        loss_func = nn.MSELoss()\n",
    "        output = actv_opl.squeeze()\n",
    "        loss = 0.5 * loss_func(output, y)\n",
    "        epoch_loss += loss.item()\n",
    "\n",
    "        # backprop\n",
    "        if has_backprop:\n",
    "            optimizer = optim.SGD([model.gain, model.shift], lr=0.2)\n",
    "            loss.backward()\n",
    "            optimizer.step()\n",
    "\n",
    "        # update init gains and shifts\n",
    "        init_gain = model.gain.detach().numpy()\n",
    "        init_shift = model.shift.detach().numpy()\n",
    "        gain_change = np.linalg.norm(init_gain - theo_gain, 2)\n",
    "        shift_change = np.linalg.norm(init_shift - theo_shift, 2)\n",
    "\n",
    "        # start hebbian and shrinkage\n",
    "        if epoch > 10 and last_epoch_loss < 0.001 and has_hebbian == False:\n",
    "            has_hebbian = True\n",
    "            has_backprop = False\n",
    "        if epoch > 10 and last_epoch_loss < 0.001 and has_boundary == False:\n",
    "            # create boundaries\n",
    "            gain_ub = np.maximum(init_gain, theo_gain)\n",
    "            gain_lb = np.minimum(init_gain, theo_gain)\n",
    "            shift_ub = np.maximum(init_shift, theo_shift)\n",
    "            shift_lb = np.minimum(init_shift, theo_shift)\n",
    "            has_boundary = True\n",
    "            print(\"learning start!!!\")\n",
    "\n",
    "        # update weights\n",
    "        if has_hebbian:\n",
    "            # Calculate Hebbian weight updates\n",
    "            hebbian_update = model.output_activation * (model.input_activation).T\n",
    "            # Regulation term of Oja\n",
    "            rj_square = (model.output_activation**2).expand(-1, model.input_size)\n",
    "            oja_regulation = oja_alpha * rj_square * model.weights\n",
    "            # Oja's rule\n",
    "            model.weights = model.weights + hebbian_lr * hebbian_update - hebbian_lr * oja_regulation            \n",
    "            # update init weights\n",
    "        init_weight = model.weights.detach().numpy()\n",
    "\n",
    "        # shrink shift and gain to init value\n",
    "        if has_boundary:\n",
    "            # passively narrow the boundaries\n",
    "            gain_ub = np.maximum(np.minimum(init_gain, gain_ub), theo_gain)\n",
    "            gain_lb = np.minimum(np.maximum(init_gain, gain_lb), theo_gain)\n",
    "            shift_ub = np.maximum(np.minimum(init_shift, shift_ub), theo_shift)\n",
    "            shift_lb = np.minimum(np.maximum(init_shift, shift_lb), theo_shift)\n",
    "            # pull gains and shifts back to into boundaries\n",
    "            init_gain = np.minimum(init_gain, gain_ub)\n",
    "            init_gain = np.maximum(init_gain, gain_lb)\n",
    "            init_shift = np.minimum(init_shift, shift_ub)\n",
    "            init_shift = np.maximum(init_shift, shift_lb)\n",
    "\n",
    "    # print losses\n",
    "    epoch_loss /= ndata\n",
    "    simu_losses.append(epoch_loss)\n",
    "    gain_changes.append(gain_change)\n",
    "    shift_changes.append(shift_change)\n",
    "    weight_sums.append(np.sum(init_weight))\n",
    "\n",
    "    if epoch % 20 == 0:\n",
    "        print(f\"Epoch: {epoch}, Loss: {epoch_loss}\")"
   ]
  },
  {
   "cell_type": "code",
   "execution_count": 304,
   "metadata": {},
   "outputs": [
    {
     "data": {
      "image/png": "[encoded data removed]",
      "text/plain": [
       "<Figure size 640x480 with 1 Axes>"
      ]
     },
     "metadata": {},
     "output_type": "display_data"
    }
   ],
   "source": [
    "# Plotting the loss\n",
    "plt.plot(range(simu_epochs), simu_losses)\n",
    "plt.xlabel('Epoch')\n",
    "plt.ylabel('Loss')\n",
    "# plt.ylim([0,0.01])\n",
    "plt.title('Training Loss over Epochs')\n",
    "# plt.savefig('abb05_loss.png')\n",
    "plt.show()"
   ]
  },
  {
   "cell_type": "code",
   "execution_count": 302,
   "metadata": {},
   "outputs": [
    {
     "data": {
      "image/png": "[encoded data removed]",
      "text/plain": [
       "<Figure size 640x480 with 1 Axes>"
      ]
     },
     "metadata": {},
     "output_type": "display_data"
    }
   ],
   "source": [
    "# Plotting the outputs\n",
    "model.eval()\n",
    "outputs = []\n",
    "for x in xs:\n",
    "    output = model(x)\n",
    "    outputs.append(output.item())\n",
    "plt.plot(xs, outputs)\n",
    "plt.plot(xs, ys, label='target')\n",
    "plt.ylim([0,1])\n",
    "plt.xlabel(\"theta\")\n",
    "# plt.savefig('abb05_outputs.png')\n",
    "plt.show()"
   ]
  },
  {
   "cell_type": "code",
   "execution_count": 293,
   "metadata": {},
   "outputs": [
    {
     "data": {
      "image/png": "[encoded data removed]",
      "text/plain": [
       "<Figure size 640x480 with 1 Axes>"
      ]
     },
     "metadata": {},
     "output_type": "display_data"
    }
   ],
   "source": [
    "final_weight = model.weights.detach().numpy()\n",
    "plt.plot(np.linspace(0, 2 * np.pi, model.input_size), final_weight.flatten())\n",
    "# plt.ylim([0,8])\n",
    "plt.xlabel(\"theta\")\n",
    "plt.ylabel(\"weight\")\n",
    "# plt.savefig('abb05_ws.png')\n",
    "plt.show()"
   ]
  },
  {
   "cell_type": "code",
   "execution_count": 294,
   "metadata": {},
   "outputs": [
    {
     "data": {
      "image/png": "[encoded data removed]",
      "text/plain": [
       "<Figure size 640x480 with 1 Axes>"
      ]
     },
     "metadata": {},
     "output_type": "display_data"
    }
   ],
   "source": [
    "plt.plot(np.arange(simu_epochs), gain_changes)\n",
    "plt.xlabel(\"epoch\")\n",
    "plt.ylabel(\"gain change\")\n",
    "# plt.hlines(y=np.sqrt(460)*0.1, xmin=0, xmax=epochs)\n",
    "# plt.savefig('abb05_gc.png')\n",
    "plt.show()"
   ]
  },
  {
   "cell_type": "code",
   "execution_count": 295,
   "metadata": {},
   "outputs": [
    {
     "data": {
      "image/png": "[encoded data removed]",
      "text/plain": [
       "<Figure size 640x480 with 1 Axes>"
      ]
     },
     "metadata": {},
     "output_type": "display_data"
    }
   ],
   "source": [
    "plt.plot(np.arange(simu_epochs), shift_changes)\n",
    "plt.xlabel(\"epoch\")\n",
    "plt.ylabel(\"shift change\")\n",
    "# plt.hlines(y=np.sqrt(460)*0.1, xmin=0, xmax=epochs)\n",
    "# plt.savefig('abb05_sc.png')\n",
    "plt.show()"
   ]
  },
  {
   "cell_type": "code",
   "execution_count": 296,
   "metadata": {},
   "outputs": [
    {
     "data": {
      "image/png": "[encoded data removed]",
      "text/plain": [
       "<Figure size 640x480 with 1 Axes>"
      ]
     },
     "metadata": {},
     "output_type": "display_data"
    }
   ],
   "source": [
    "plt.plot(np.arange(simu_epochs), weight_sums)\n",
    "# plt.ylim([0,8])\n",
    "plt.xlabel(\"epoch\")\n",
    "plt.ylabel(\"sum of first 100 weights\")\n",
    "# plt.savefig('abb05_ws.png')\n",
    "plt.show()"
   ]
  },
  {
   "cell_type": "code",
   "execution_count": 297,
   "metadata": {},
   "outputs": [
    {
     "data": {
      "text/plain": [
       "array([[0.5664, 0.5661, 0.565 , ..., 0.565 , 0.5661, 0.5664],\n",
       "       [0.5661, 0.5664, 0.5659, ..., 0.5634, 0.5651, 0.5661],\n",
       "       [0.5652, 0.5661, 0.5663, ..., 0.5612, 0.5636, 0.5652],\n",
       "       ...,\n",
       "       [0.5652, 0.5636, 0.5612, ..., 0.5663, 0.5661, 0.5652],\n",
       "       [0.5661, 0.5651, 0.5634, ..., 0.5659, 0.5664, 0.5661],\n",
       "       [0.5664, 0.5661, 0.565 , ..., 0.565 , 0.5661, 0.5664]],\n",
       "      dtype=float32)"
      ]
     },
     "execution_count": 297,
     "metadata": {},
     "output_type": "execute_result"
    }
   ],
   "source": [
    "rates = []\n",
    "for x in xs:\n",
    "    input = model.gaussian_rf(x)\n",
    "    rate = model.activation_func(model.gain * (input - model.shift))\n",
    "    rates.append(rate)\n",
    "rates = torch.cat(rates, dim=1)\n",
    "rates = rates.detach().numpy().round(4)\n",
    "rates"
   ]
  },
  {
   "cell_type": "code",
   "execution_count": 298,
   "metadata": {},
   "outputs": [
    {
     "data": {
      "text/plain": [
       "Text(0, 0.5, 'firing rate')"
      ]
     },
     "execution_count": 298,
     "metadata": {},
     "output_type": "execute_result"
    },
    {
     "data": {
      "image/png": "[encoded data removed]",
      "text/plain": [
       "<Figure size 640x480 with 1 Axes>"
      ]
     },
     "metadata": {},
     "output_type": "display_data"
    }
   ],
   "source": [
    "for i in np.arange(0,model.input_size,10):\n",
    "    thisr = rates[i,:]\n",
    "    plt.plot(xs, thisr)\n",
    "plt.xlabel(\"theta\")\n",
    "plt.ylabel(\"firing rate\")\n",
    "# plt.savefig('abb05_rf.png')"
   ]
  },
  {
   "cell_type": "code",
   "execution_count": 299,
   "metadata": {},
   "outputs": [
    {
     "data": {
      "text/plain": [
       "<matplotlib.legend.Legend at 0x1685e5b80>"
      ]
     },
     "execution_count": 299,
     "metadata": {},
     "output_type": "execute_result"
    },
    {
     "data": {
      "image/png": "[encoded data removed]",
      "text/plain": [
       "<Figure size 640x480 with 1 Axes>"
      ]
     },
     "metadata": {},
     "output_type": "display_data"
    }
   ],
   "source": [
    "# Plotting the outputs\n",
    "model.gain = model.init_gain\n",
    "model.shift = model.init_shift\n",
    "model.eval()\n",
    "outputs = []\n",
    "for x in xs:\n",
    "    output = model(x)\n",
    "    outputs.append(output.item())\n",
    "plt.plot(xs, outputs, label='model')\n",
    "plt.plot(xs, ys, label='target')\n",
    "plt.ylim([0,1])\n",
    "plt.xlabel(\"theta\")\n",
    "plt.legend()\n",
    "# plt.savefig('abb05_outputs_nosup.png')"
   ]
  },
  {
   "cell_type": "code",
   "execution_count": null,
   "metadata": {},
   "outputs": [],
   "source": []
  }
 ],
 "metadata": {
  "kernelspec": {
   "display_name": "rnn",
   "language": "python",
   "name": "python3"
  },
  "language_info": {
   "codemirror_mode": {
    "name": "ipython",
    "version": 3
   },
   "file_extension": ".py",
   "mimetype": "text/x-python",
   "name": "python",
   "nbconvert_exporter": "python",
   "pygments_lexer": "ipython3",
   "version": "3.8.17"
  },
  "orig_nbformat": 4
 },
 "nbformat": 4,
 "nbformat_minor": 2
}
